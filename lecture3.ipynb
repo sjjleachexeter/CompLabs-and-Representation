{
 "cells": [
  {
   "cell_type": "markdown",
   "id": "56ef91d1",
   "metadata": {},
   "source": [
    "# List Comprehension"
   ]
  },
  {
   "cell_type": "markdown",
   "id": "111f5ef2",
   "metadata": {},
   "source": [
    "List comprehension is effectively a way to draw out a value or set of values from a list"
   ]
  },
  {
   "cell_type": "markdown",
   "id": "549fe9a1",
   "metadata": {},
   "source": [
    "main :: IO ()\n",
    "main\n",
    "= print [x | (x:xs) <- [[1,2,3], [4,5], [6]]\n",
    "-- will output 1,4,6 because it draws out the heads"
   ]
  },
  {
   "cell_type": "code",
   "execution_count": null,
   "id": "8e1ccdfe",
   "metadata": {},
   "outputs": [],
   "source": [
    "quicksort (x:xs)\n",
    "= quicksort [u | u <- xs, u < x]\n",
    "    ++ [x]++\n",
    "    quicksort [u | u <- xs, u => x]\n",
    "quicksort []\n",
    "= []"
   ]
  },
  {
   "cell_type": "markdown",
   "id": "d9ccea8c",
   "metadata": {},
   "source": [
    "#### Finding primes\n",
    "prime :: Int -> [Int]\n",
    "prme n\n",
    "= factors n == [1,n]\n",
    "  where\n",
    "  factors n\n",
    "    = [f | f <- [1...n], n `mod` f ==0]\n",
    "-- would be better if it only went up to sqrt(n)"
   ]
  }
 ],
 "metadata": {
  "kernelspec": {
   "display_name": "Python 3 (ipykernel)",
   "language": "python",
   "name": "python3"
  }
 },
 "nbformat": 4,
 "nbformat_minor": 5
}
